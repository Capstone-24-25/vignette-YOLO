{
 "cells": [
  {
   "cell_type": "code",
   "execution_count": 1,
   "metadata": {},
   "outputs": [],
   "source": [
    "from ultralytics import YOLO, settings"
   ]
  },
  {
   "cell_type": "code",
   "execution_count": 2,
   "metadata": {},
   "outputs": [],
   "source": [
    "# Load a pre-trained YOLO model\n",
    "model = YOLO(model = \"models/yolov11m-best.pt\")"
   ]
  },
  {
   "cell_type": "code",
   "execution_count": 3,
   "metadata": {},
   "outputs": [
    {
     "name": "stdout",
     "output_type": "stream",
     "text": [
      "\n",
      "image 1/1 c:\\Users\\josep\\vignette-YOLO\\data\\dataset\\ffff0595d9b782e9cd3c537529bf6027.jpg: 448x640 1 Su57, 1267.2ms\n",
      "Speed: 18.3ms preprocess, 1267.2ms inference, 6.6ms postprocess per image at shape (1, 3, 448, 640)\n",
      "Results saved to \u001b[1mc:\\Users\\josep\\vignette-YOLO\\runs\\detect\\predict6\u001b[0m\n"
     ]
    }
   ],
   "source": [
    "results = model.predict(source=\"data/dataset/ffff0595d9b782e9cd3c537529bf6027.jpg\", save = True)"
   ]
  },
  {
   "cell_type": "code",
   "execution_count": null,
   "metadata": {},
   "outputs": [],
   "source": [
    "# Only run once\n",
    "# settings.update(\"datasets_dir\", \"[ABSOLUTE PATH TO ultralytics directory]\")"
   ]
  },
  {
   "cell_type": "code",
   "execution_count": null,
   "metadata": {},
   "outputs": [],
   "source": [
    "model.train(data = \"./data/ultralytics/mad.yaml\")\n",
    "model.train(data=\"/kaggle/working/ultralytics/data.yaml\", epochs=50, imgsz=640, batch=-1)"
   ]
  }
 ],
 "metadata": {
  "kernelspec": {
   "display_name": "venv",
   "language": "python",
   "name": "python3"
  },
  "language_info": {
   "codemirror_mode": {
    "name": "ipython",
    "version": 3
   },
   "file_extension": ".py",
   "mimetype": "text/x-python",
   "name": "python",
   "nbconvert_exporter": "python",
   "pygments_lexer": "ipython3",
   "version": "3.11.3"
  }
 },
 "nbformat": 4,
 "nbformat_minor": 2
}
