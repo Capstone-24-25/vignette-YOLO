{
 "cells": [
  {
   "cell_type": "markdown",
   "metadata": {},
   "source": [
    "# YOLO Vignette"
   ]
  },
  {
   "cell_type": "markdown",
   "metadata": {},
   "source": [
    "## Preparation Step\n",
    "\n",
    "### Importing libraries"
   ]
  },
  {
   "cell_type": "code",
   "execution_count": null,
   "metadata": {},
   "outputs": [],
   "source": [
    "# Import the YOLO api from ultralytics. YOLO is the base model we are training our data on.\n",
    "from ultralytics import YOLO"
   ]
  },
  {
   "cell_type": "markdown",
   "metadata": {},
   "source": [
    "### Preprocessing Step"
   ]
  },
  {
   "cell_type": "code",
   "execution_count": null,
   "metadata": {},
   "outputs": [],
   "source": [
    "# Example data found in /data/dataset <-- REPLACE THIS WITH DIRECTORY (yolo preprocess takes from different directories so maybe we explain the file hierarchy)\n",
    "# TODO: Take a subset of the military dataset and add it to the repo\n",
    "\n",
    "# Preprocessing script to format the data into a yaml file to feed into YOLO.\n",
    "# TODO: Currently the following code errors out since there is no example data.\n",
    "%run scripts/yolo_preprocess.py"
   ]
  },
  {
   "cell_type": "markdown",
   "metadata": {},
   "source": [
    "## Training the model\n",
    "Because it would take forever to actually train the model every time, we will just show the code for training.\n",
    "\n",
    "For evaluation and demonstration, we will use the YOLO11m model we trained on our dataset.\n",
    "\n",
    "**TODO**: Replace the model type above if we end up getting the larger model with the supercomputer working.\n",
    "**TODO**: Replace the model name & maybe yaml path in the code below to reflect the correct model/data we are using.\n",
    "\n",
    "```python\n",
    "model = YOLO(\"yolo11m.pt\")\n",
    "results = model.train(data=\"/kaggle/working/ultralytics/data.yaml\", epochs=50, imgsz=640, batch=-1)\n",
    "```\n",
    "\n",
    "The results variable stores various validation metrics about our model with the best performance.\n",
    "These metrics can also be found under `runs/detect/train`.\n",
    "The weights for the best performing and final iterations can be found under `runs/detect/train/weights`."
   ]
  },
  {
   "cell_type": "markdown",
   "metadata": {},
   "source": [
    "## Evaluating and Testing our Model\n",
    "\n",
    "Here, we can load our pre-trained model to test it on our example dataset. Remember that we already used the `yolo_preprocess.py` script to convert our data into the format that the YOLO model expects (used for validation)."
   ]
  },
  {
   "cell_type": "code",
   "execution_count": null,
   "metadata": {},
   "outputs": [],
   "source": [
    "# Load a pre-trained YOLO model\n",
    "# TODO: Possibly change model to larger model\n",
    "model = YOLO(\"/models/yolov11m-best.pt\", task = \"detect\")"
   ]
  },
  {
   "cell_type": "markdown",
   "metadata": {},
   "source": [
    "### Model Validation with Example Data\n",
    "**TODO** I'm not entirely sure if we're supposed to validate with the whole dataset or just the example data"
   ]
  },
  {
   "cell_type": "code",
   "execution_count": null,
   "metadata": {},
   "outputs": [],
   "source": [
    "# Validate our model with example dataset\n",
    "# TODO: replace PATH_TO_DATA with the actual path\n",
    "metrics = model.val(data=\"PATH_TO_DATA\")\n",
    "\n",
    "# Print metrics\n",
    "print(metrics.box.map50) # mean Average Precision (mAP) at 0.5 Intersection over Union (IoU)"
   ]
  },
  {
   "cell_type": "markdown",
   "metadata": {},
   "source": [
    "### Testing the model\n",
    "We can test the model to see if it labels the example data correctly."
   ]
  },
  {
   "cell_type": "code",
   "execution_count": null,
   "metadata": {},
   "outputs": [],
   "source": [
    "image_paths = []\n",
    "# TODO: Write code to collect all the image file paths into image_paths list\n",
    "\n",
    "# Call the predict method on the model\n",
    "# TODO: experiment with show_conf, show_boxes, save_conf, and save_boxes\n",
    "# TODO: documentation: https://docs.ultralytics.com/modes/predict/#key-features-of-predict-mode\n",
    "results = model.predict(source=image_paths, save=True, imgsz=640, save_conf=True, save_boxes=True, show_boxes=True, show_conf=True)\n"
   ]
  },
  {
   "cell_type": "markdown",
   "metadata": {},
   "source": [
    "## Conclusions\n",
    "\n",
    "**TODO** Add explanation/summary/analysis here"
   ]
  }
 ],
 "metadata": {
  "kernelspec": {
   "display_name": ".venv",
   "language": "python",
   "name": "python3"
  },
  "language_info": {
   "codemirror_mode": {
    "name": "ipython",
    "version": 3
   },
   "file_extension": ".py",
   "mimetype": "text/x-python",
   "name": "python",
   "nbconvert_exporter": "python",
   "pygments_lexer": "ipython3",
   "version": "3.10.6"
  }
 },
 "nbformat": 4,
 "nbformat_minor": 2
}
